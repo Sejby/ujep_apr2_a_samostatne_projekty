{
 "cells": [
  {
   "cell_type": "markdown",
   "metadata": {},
   "source": [
    "## Fonta a Zásobník\n",
    "\n",
    "Zásobník (LIFO):"
   ]
  },
  {
   "cell_type": "code",
   "execution_count": 7,
   "metadata": {},
   "outputs": [
    {
     "name": "stdout",
     "output_type": "stream",
     "text": [
      "<__main__.Stack object at 0x0000022BDE5C3E90>\n",
      "10\n",
      "9\n",
      "8\n",
      "7\n",
      "6\n",
      "5\n",
      "4\n",
      "3\n",
      "2\n",
      "1\n",
      "0\n"
     ]
    }
   ],
   "source": [
    "from typing import Any\n",
    "\n",
    "class Stack:\n",
    "    def __init__(self) -> None:\n",
    "        self.data = []\n",
    "\n",
    "\n",
    "    def push(self, item: Any) -> None:\n",
    "        self.data.append(item)\n",
    "    \n",
    "    def pop(self) -> Any:\n",
    "        if len(self.data) == 0:\n",
    "            raise ValueError(\"Prázdnej zásobník\")\n",
    "        return self.data.pop()\n",
    "\n",
    "    def isEmpty(self) -> bool:\n",
    "        return not bool(self.data)\n",
    "    \n",
    "    def __bool__(self):\n",
    "        return bool(self.data)\n",
    "    \n",
    "    def __len__(self):\n",
    "        return len(self.data)\n",
    "    \n",
    "    def peek(self) -> Any:\n",
    "        if len(self.data) == 0:\n",
    "            raise ValueError(\"Prázdnej zásobník\")    \n",
    "        return self.data[-1]\n",
    "\n",
    "zasobnik = Stack()\n",
    "\n",
    "for i in range(10):\n",
    "    zasobnik.push(i)\n",
    "\n",
    "print(zasobnik)\n",
    "print(len(zasobnik))\n",
    "\n",
    "while zasobnik:\n",
    "    print(zasobnik.pop())"
   ]
  },
  {
   "cell_type": "markdown",
   "metadata": {},
   "source": [
    "## Fronta"
   ]
  },
  {
   "cell_type": "code",
   "execution_count": 12,
   "metadata": {},
   "outputs": [
    {
     "name": "stdout",
     "output_type": "stream",
     "text": [
      "0\n",
      "1\n",
      "2\n",
      "3\n",
      "4\n",
      "5\n",
      "6\n",
      "7\n",
      "8\n",
      "9\n"
     ]
    }
   ],
   "source": [
    "from typing import Any\n",
    "from collections import deque # Oboustranná fronta\n",
    "\n",
    "class Queue:\n",
    "    def __init__(self) -> None:\n",
    "        self.data = deque()\n",
    "    \n",
    "    def enqueue(self, item) -> Any:\n",
    "        self.data.append(item) # Časová složitost O(1)\n",
    "    \n",
    "    def dequeue(self) -> None:\n",
    "        return self.data.popleft() # Časová složitost O(n) u normální fronty, u oboustranné fronty (deque) je složitost O(1)\n",
    "    \n",
    "    def empty(self) -> bool:\n",
    "        return not bool(self.data)\n",
    "\n",
    "fronta = Queue()\n",
    "\n",
    "for i in range(10):\n",
    "    fronta.enqueue(i)\n",
    "\n",
    "while not fronta.empty():\n",
    "    print(fronta.dequeue())"
   ]
  },
  {
   "cell_type": "markdown",
   "metadata": {},
   "source": [
    "Sklerotik "
   ]
  },
  {
   "cell_type": "code",
   "execution_count": 23,
   "metadata": {},
   "outputs": [
    {
     "name": "stdout",
     "output_type": "stream",
     "text": [
      "16\n",
      "12\n",
      "18\n",
      "3\n",
      "15\n",
      "17\n",
      "13\n",
      "7\n",
      "19\n",
      "9\n",
      "Gandalf\n",
      "Bilbo\n"
     ]
    }
   ],
   "source": [
    "from random import randrange\n",
    "\n",
    "class SkleroticSet:\n",
    "    '''\n",
    "        Sklerotické množiny mají sémantiku množin, ale jen omezenou kapacitu prvků. Pokud je celá kapacita využita,\n",
    "        náhodně zapomínají vložené údaje.\n",
    "\n",
    "        Záruky:\n",
    "            - poslední vložený prvek není nikdy zapomenut\n",
    "            - dříve vložené prvky mají větší pravděpodobnost zapomenutí než prvky vložené později\n",
    "    '''\n",
    "    def __init__(self, capacity: int) -> None:\n",
    "        self.data = []\n",
    "        self.capacity = capacity\n",
    "    \n",
    "    def __contains__(self, item) -> bool: #používá se pro operátor in\n",
    "        return item in self.data\n",
    "\n",
    "    def insert(self, item) -> None:\n",
    "        if len(self.data) < self.capacity:\n",
    "            self.data.append(item)\n",
    "        else:\n",
    "            assert len(self.data) == self.capacity\n",
    "            index = randrange(0, self.capacity) #náhodný index obětovaného prvku\n",
    "            self.data[index] = item #přepsání obětovaného prvku\n",
    "\n",
    "    \n",
    "    def random_item(self) -> Any:\n",
    "        index = randrange(0, len(self.data))\n",
    "        return self.data[index] \n",
    "    \n",
    "    @DeprecationWarning # pro riziko u vyšších verzí pythonu\n",
    "    def get_items(self) -> list: # bezpečné ale pomalé\n",
    "        return list(self.data) \n",
    "\n",
    "    def __len__(self) ->int:\n",
    "        return len(self.data)\n",
    "    \n",
    "    def __iter__(self):\n",
    "        return iter(self.data)\n",
    "\n",
    "    def __bool__(self): # není nutné a možná zvlášť efektivní \n",
    "        return bool(self.data)\n",
    "    \n",
    "\n",
    "cisla = SkleroticSet(10)\n",
    "\n",
    "for i in range(20):\n",
    "    cisla.insert(i)\n",
    "\n",
    "for item in cisla:\n",
    "    print(item)\n",
    "\n",
    "small = SkleroticSet(2)\n",
    "\n",
    "small.insert(\"Frodo\")\n",
    "small.insert(\"Bilbo\")\n",
    "small.insert(\"Gandalf\")\n",
    "\n",
    "iterator = iter(small) # získání iterátoru\n",
    "print(next(iterator)) # vrátí první prvek\n",
    "print(next(iterator))\n"
   ]
  }
 ],
 "metadata": {
  "kernelspec": {
   "display_name": "Python 3",
   "language": "python",
   "name": "python3"
  },
  "language_info": {
   "codemirror_mode": {
    "name": "ipython",
    "version": 3
   },
   "file_extension": ".py",
   "mimetype": "text/x-python",
   "name": "python",
   "nbconvert_exporter": "python",
   "pygments_lexer": "ipython3",
   "version": "3.12.0"
  }
 },
 "nbformat": 4,
 "nbformat_minor": 2
}
