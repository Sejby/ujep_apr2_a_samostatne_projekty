{
 "cells": [
  {
   "cell_type": "markdown",
   "metadata": {},
   "source": [
    "kód\n",
    "- mezi různým kódem vznikají různé závislosti\n",
    "\n",
    "    drobná změna -> velká katastrofa -> velké přepisování\n",
    "    kolize identifikátorů\n",
    "    redundance kódu (máte několik kopií, změna se projeví jen v jedné)\n",
    "    obtížné ladění\n",
    "\n",
    "    organizace kódu:\n",
    "        funkce = konec 50. let\n",
    "\n",
    "        modulární programování (shromáždění kódu v modulech) = polovina 60. let (70. léta)\n",
    "        objektově orientované programování (1968, Simula, 80. léta)\n",
    "\n",
    "    objekt = datová struktura (hodnota) uvnitř operační paměti, representace entit (objekty reálného světa, abstraktní koncepty)\n",
    "    každý objekt má identitu, každý má lifetime\n",
    "    dva pohledy na objekty: jak funguje uvnitř, jaké chování s interakci s jinými objekty\n",
    "\n",
    "    třída = množina objektů, které mají stejné chování (relativní)\n",
    "            objekty se stejným rozhraním: množina metod, stejná jména, stejné parametry, stejné podmínky použití a stejné chování\n",
    "\n",
    "            co dělají metody: mění stav objektu nebo vytvářejí nový objekt\n",
    "\n",
    "    astring.replace(\"a\", \"b\") -> vrací nový řetězec, nic nemění na exist. objektech\n",
    "    alist.append(5) -> mění stav objektu, nic nevrací"
   ]
  },
  {
   "cell_type": "markdown",
   "metadata": {},
   "source": [
    "Objekty reprezentující listy papíru, kde nás zajímá jen rozměr a hmotnost"
   ]
  },
  {
   "cell_type": "code",
   "execution_count": 8,
   "metadata": {},
   "outputs": [
    {
     "name": "stdout",
     "output_type": "stream",
     "text": [
      "h: 297, w: 210, weight per 1m^2: 80\n",
      "2.4864\n"
     ]
    }
   ],
   "source": [
    "class Sheet:\n",
    "    def __init__(self, width: int, height: int, weight: int) -> None: #konstruktor\n",
    "        self.width = width\n",
    "        self.height = height\n",
    "        self.weight = weight\n",
    "\n",
    "    def half_papir(self) -> \"Sheet\":\n",
    "        return Sheet(self.height // 2, self.width, self.weight)\n",
    "    \n",
    "    def papir_weight(self)->None:\n",
    "        return self.weight * self.height * self.width / 1e6\n",
    "\n",
    "    def __repr__(self) -> str: #vypisování\n",
    "        return f\"h: {self.height}, w: {self.width}, weight per 1m^2: {self.weight}\"\n",
    "\n",
    "papir = Sheet(210, 297, 80)\n",
    "print(papir)\n",
    "print(papir.half_papir().papir_weight())\n",
    "        "
   ]
  }
 ],
 "metadata": {
  "kernelspec": {
   "display_name": "Python 3",
   "language": "python",
   "name": "python3"
  },
  "language_info": {
   "codemirror_mode": {
    "name": "ipython",
    "version": 3
   },
   "file_extension": ".py",
   "mimetype": "text/x-python",
   "name": "python",
   "nbconvert_exporter": "python",
   "pygments_lexer": "ipython3",
   "version": "3.12.0"
  }
 },
 "nbformat": 4,
 "nbformat_minor": 2
}
